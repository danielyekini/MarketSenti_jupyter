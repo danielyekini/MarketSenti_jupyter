{
 "cells": [
  {
   "cell_type": "markdown",
   "metadata": {},
   "source": [
    "### Stock Data Collection"
   ]
  },
  {
   "cell_type": "code",
   "execution_count": 4,
   "metadata": {},
   "outputs": [
    {
     "name": "stderr",
     "output_type": "stream",
     "text": [
      "[*********************100%%**********************]  1 of 1 completed\n"
     ]
    },
    {
     "name": "stdout",
     "output_type": "stream",
     "text": [
      "Data saved to ./AMZN_stock_data.csv\n"
     ]
    },
    {
     "name": "stderr",
     "output_type": "stream",
     "text": [
      "[*********************100%%**********************]  1 of 1 completed\n"
     ]
    },
    {
     "name": "stdout",
     "output_type": "stream",
     "text": [
      "Data saved to ./BLK_stock_data.csv\n"
     ]
    },
    {
     "name": "stderr",
     "output_type": "stream",
     "text": [
      "[*********************100%%**********************]  1 of 1 completed\n"
     ]
    },
    {
     "name": "stdout",
     "output_type": "stream",
     "text": [
      "Data saved to ./BA_stock_data.csv\n"
     ]
    },
    {
     "name": "stderr",
     "output_type": "stream",
     "text": [
      "[*********************100%%**********************]  1 of 1 completed\n",
      "[*********************100%%**********************]  1 of 1 completed\n"
     ]
    },
    {
     "name": "stdout",
     "output_type": "stream",
     "text": [
      "Data saved to ./CVX_stock_data.csv\n",
      "Data saved to ./GOOG_stock_data.csv\n"
     ]
    },
    {
     "name": "stderr",
     "output_type": "stream",
     "text": [
      "[*********************100%%**********************]  1 of 1 completed\n"
     ]
    },
    {
     "name": "stdout",
     "output_type": "stream",
     "text": [
      "Data saved to ./MSFT_stock_data.csv\n"
     ]
    },
    {
     "name": "stderr",
     "output_type": "stream",
     "text": [
      "[*********************100%%**********************]  1 of 1 completed\n",
      "[*********************100%%**********************]  1 of 1 completed"
     ]
    },
    {
     "name": "stdout",
     "output_type": "stream",
     "text": [
      "Data saved to ./NVDA_stock_data.csv\n",
      "Data saved to ./PFE_stock_data.csv\n"
     ]
    },
    {
     "name": "stderr",
     "output_type": "stream",
     "text": [
      "\n",
      "[*********************100%%**********************]  1 of 1 completed"
     ]
    },
    {
     "name": "stdout",
     "output_type": "stream",
     "text": [
      "Data saved to ./TSLA_stock_data.csv\n"
     ]
    },
    {
     "name": "stderr",
     "output_type": "stream",
     "text": [
      "\n"
     ]
    }
   ],
   "source": [
    "import yfinance as yf\n",
    "from datetime import datetime, timedelta\n",
    "\n",
    "def get_stock_data(ticker, start_date='2014-01-01', end_date='2024-02-20', interval='1d'):\n",
    "    # Convert start_date string to datetime object\n",
    "    start_date_dt = datetime.strptime(start_date, '%Y-%m-%d')\n",
    "    end_date_dt = datetime.strptime(end_date, '%Y-%m-%d')\n",
    "    \n",
    "    # If the interval is '1h', adjust the start date to be no more than 720 days before the current date\n",
    "    if interval == '1h' and (end_date_dt - start_date_dt).days > 720:\n",
    "        start_date = (end_date - timedelta(days=720))\n",
    "    \n",
    "    # Download the stock data\n",
    "    data = yf.download(ticker, start=start_date, end=end_date, interval=interval)\n",
    "    \n",
    "    # Save the data to a CSV file\n",
    "    csv_file_path = f'./{ticker}_stock_data.csv'\n",
    "    data.to_csv(csv_file_path)\n",
    "    \n",
    "    print(f'Data saved to {csv_file_path}')\n",
    "\n",
    "tickers = [\n",
    "    'AMZN',\n",
    "    'BLK',\n",
    "    'BA',\n",
    "    'CVX',\n",
    "    'GOOG',\n",
    "    'MSFT',\n",
    "    'NVDA',\n",
    "    'PFE',\n",
    "    'TSLA'\n",
    "]\n",
    "\n",
    "for ticker in tickers:\n",
    "    get_stock_data(ticker, interval='1d')\n"
   ]
  }
 ],
 "metadata": {
  "kernelspec": {
   "display_name": "Python 3",
   "language": "python",
   "name": "python3"
  },
  "language_info": {
   "codemirror_mode": {
    "name": "ipython",
    "version": 3
   },
   "file_extension": ".py",
   "mimetype": "text/x-python",
   "name": "python",
   "nbconvert_exporter": "python",
   "pygments_lexer": "ipython3",
   "version": "3.11.8"
  }
 },
 "nbformat": 4,
 "nbformat_minor": 2
}
